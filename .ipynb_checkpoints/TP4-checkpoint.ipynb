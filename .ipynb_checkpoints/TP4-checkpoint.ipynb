{
 "cells": [
  {
   "cell_type": "markdown",
   "id": "aaa4c0c2-fe2a-4b5b-9545-10344fde1f21",
   "metadata": {},
   "source": [
    "<img src='https://upload.wikimedia.org/wikipedia/fr/thumb/e/ed/Logo_Universit%C3%A9_du_Maine.svg/1280px-Logo_Universit%C3%A9_du_Maine.svg.png' width=\"300\" height=\"500\">\n",
    "<br>\n",
    "<div style=\"border: solid 3px #000;\">\n",
    "    <h1 style=\"text-align: center; color:#000; font-family:Georgia; font-size:26px;\">Infrastructures pour l'IA</h1>\n",
    "    <p style='text-align: center;'>Master Informatique 1</p>\n",
    "    <p style='text-align: center;'>Anhony Larcher</p>\n",
    "</div>"
   ]
  },
  {
   "cell_type": "markdown",
   "id": "371ccdef-4839-4ddc-a986-dfcc76fe8449",
   "metadata": {},
   "source": [
    "Dans cet exercice nous allons classifier les image sde la base de données MNIST des Support Vector Machine."
   ]
  },
  {
   "cell_type": "markdown",
   "id": "b16e9a4e-2f0b-4219-967b-d8ff778f476d",
   "metadata": {},
   "source": [
    "## Importez un package qui vous permette de tracer ces graphiques"
   ]
  },
  {
   "cell_type": "code",
   "execution_count": 1,
   "id": "676ce173-77ca-4d56-a425-e3c5543d328e",
   "metadata": {},
   "outputs": [],
   "source": [
    "import matplotlib.pyplot as plt"
   ]
  },
  {
   "cell_type": "markdown",
   "id": "42a9c540-fe09-4d1c-b4a0-c177f9966236",
   "metadata": {},
   "source": [
    "## Importez des parties de Scikit-Learn"
   ]
  },
  {
   "cell_type": "code",
   "execution_count": 2,
   "id": "1d6230dc-41fc-4275-8b6c-25d6201e5a39",
   "metadata": {},
   "outputs": [],
   "source": [
    "# À partir du package scikit-learn, importez les modules **datasets**, **svm** et **metrics**\n",
    "from sklearn import datasets,svm,metrics\n",
    "from sklearn.model_selection import train_test_split\n",
    "# Importez la méthode **train_test_split** de scikit-learn, à quoi sert cette méthode?\n"
   ]
  },
  {
   "cell_type": "markdown",
   "id": "c9a0d6a8-0a63-4f9d-af42-8e25bc810f3c",
   "metadata": {},
   "source": [
    "## Téléchargez le corpus MNIST"
   ]
  },
  {
   "cell_type": "code",
   "execution_count": 3,
   "id": "aa6f4f57-3b34-4c5f-a500-aadef08a6c34",
   "metadata": {},
   "outputs": [],
   "source": [
    "from sklearn.datasets import fetch_openml\n",
    "# Load data from https://www.openml.org/d/554\n",
    "X, y = fetch_openml(\n",
    "    \"mnist_784\", version=1, return_X_y=True, as_frame=False\n",
    ")"
   ]
  },
  {
   "cell_type": "markdown",
   "id": "a219d980-9360-42fe-8619-7f0deeb2c74f",
   "metadata": {},
   "source": [
    "## Visualisez quelques exemples de MNIST\n",
    "Chaque ligne de X est un vecteur qui contient les 784 valeurs des pixels d'une image 28x28 en niveaux de gris\n",
    "\n",
    "Affichez les 4 premiers exemples de cette base de données avec leur label"
   ]
  },
  {
   "cell_type": "code",
   "execution_count": 4,
   "id": "62b62598-ee63-4c44-9d38-9946b1470ba4",
   "metadata": {},
   "outputs": [
    {
     "name": "stdout",
     "output_type": "stream",
     "text": [
      "[[0. 0. 0. ... 0. 0. 0.]\n",
      " [0. 0. 0. ... 0. 0. 0.]\n",
      " [0. 0. 0. ... 0. 0. 0.]\n",
      " [0. 0. 0. ... 0. 0. 0.]]\n",
      "['5' '0' '4' '1']\n"
     ]
    },
    {
     "data": {
      "text/plain": [
       "(70000, 784)"
      ]
     },
     "execution_count": 4,
     "metadata": {},
     "output_type": "execute_result"
    }
   ],
   "source": [
    "print(X[:4,:])\n",
    "print(y[:4])\n",
    "X.shape\n"
   ]
  },
  {
   "cell_type": "markdown",
   "id": "5a361b40-9e22-49be-8c8c-9fed1bae4eec",
   "metadata": {},
   "source": [
    "# Préparez vos données\n",
    "\n",
    "Divisez le corpus MNIST en deu partitions\n",
    "* **train** qui contient 75% des données \n",
    "* **dev** qui contient 25% de données\n",
    "\n"
   ]
  },
  {
   "cell_type": "code",
   "execution_count": 5,
   "id": "c150c1f5-c9c0-4efc-b28a-fa97ba35baab",
   "metadata": {},
   "outputs": [
    {
     "data": {
      "text/plain": [
       "(66500, 784)"
      ]
     },
     "execution_count": 5,
     "metadata": {},
     "output_type": "execute_result"
    }
   ],
   "source": [
    "X_train, X_test, Y_train, Y_test = train_test_split(X,y,test_size=0.95)\n",
    "X_test.shape"
   ]
  },
  {
   "cell_type": "markdown",
   "id": "b5b205cb-48b8-4118-be1d-08946720a4ba",
   "metadata": {},
   "source": [
    "# Visualisez la répartition des 10 classes dans les deux partitions (train et dev)"
   ]
  },
  {
   "cell_type": "code",
   "execution_count": 6,
   "id": "c5f8e2c4-a7fe-4f65-b880-b8c29a61fcc5",
   "metadata": {},
   "outputs": [
    {
     "name": "stdout",
     "output_type": "stream",
     "text": [
      "(3500,)\n"
     ]
    },
    {
     "data": {
      "text/plain": [
       "1    7463\n",
       "7    6908\n",
       "3    6812\n",
       "9    6660\n",
       "2    6654\n",
       "0    6527\n",
       "6    6521\n",
       "8    6489\n",
       "4    6474\n",
       "5    5992\n",
       "dtype: int64"
      ]
     },
     "execution_count": 6,
     "metadata": {},
     "output_type": "execute_result"
    }
   ],
   "source": [
    "import pandas as pd\n",
    "print(Y_train.shape)\n",
    "rep_train = pd.Series(Y_train).value_counts()\n",
    "rep_test = pd.Series(Y_test).value_counts()\n",
    "\n",
    "\n",
    "\n",
    "rep_test\n",
    "\n",
    "\n"
   ]
  },
  {
   "cell_type": "code",
   "execution_count": 7,
   "id": "ae5cc8ec",
   "metadata": {},
   "outputs": [
    {
     "data": {
      "text/plain": [
       "(3500, 784)"
      ]
     },
     "execution_count": 7,
     "metadata": {},
     "output_type": "execute_result"
    }
   ],
   "source": [
    "X_train.shape"
   ]
  },
  {
   "cell_type": "code",
   "execution_count": 8,
   "id": "4de89ae5",
   "metadata": {},
   "outputs": [
    {
     "data": {
      "text/plain": [
       "<matplotlib.image.AxesImage at 0x7f53589555e0>"
      ]
     },
     "execution_count": 8,
     "metadata": {},
     "output_type": "execute_result"
    },
    {
     "data": {
      "image/png": "[encoded data removed]",
      "text/plain": [
       "<Figure size 432x288 with 1 Axes>"
      ]
     },
     "metadata": {
      "needs_background": "light"
     },
     "output_type": "display_data"
    }
   ],
   "source": [
    "plt.imshow(X_train[:1,:].reshape(28,28))\n"
   ]
  },
  {
   "cell_type": "code",
   "execution_count": 9,
   "id": "b6f0c4ca",
   "metadata": {},
   "outputs": [
    {
     "data": {
      "text/plain": [
       "Text(0, 0.5, 'quantité')"
      ]
     },
     "execution_count": 9,
     "metadata": {},
     "output_type": "execute_result"
    },
    {
     "data": {
      "image/png": "[encoded data removed]",
      "text/plain": [
       "<Figure size 432x288 with 1 Axes>"
      ]
     },
     "metadata": {
      "needs_background": "light"
     },
     "output_type": "display_data"
    }
   ],
   "source": [
    "keys = rep_train.keys()\n",
    "ax = rep_train.plot.bar(color='salmon')\n",
    "ax.set_xlabel('chiffre')\n",
    "ax.set_ylabel('quantité')\n"
   ]
  },
  {
   "cell_type": "code",
   "execution_count": 10,
   "id": "e922bcdb",
   "metadata": {},
   "outputs": [
    {
     "data": {
      "text/plain": [
       "Text(0, 0.5, 'quantité')"
      ]
     },
     "execution_count": 10,
     "metadata": {},
     "output_type": "execute_result"
    },
    {
     "data": {
      "image/png": "[encoded data removed]",
      "text/plain": [
       "<Figure size 432x288 with 1 Axes>"
      ]
     },
     "metadata": {
      "needs_background": "light"
     },
     "output_type": "display_data"
    }
   ],
   "source": [
    "ax = rep_test.plot.bar(color='cyan')\n",
    "ax.set_xlabel('chiffre')\n",
    "ax.set_ylabel('quantité')"
   ]
  },
  {
   "cell_type": "code",
   "execution_count": null,
   "id": "8d98124f",
   "metadata": {},
   "outputs": [],
   "source": []
  },
  {
   "cell_type": "markdown",
   "id": "119857b0-2461-427e-8e45-b6504d99d927",
   "metadata": {},
   "source": [
    "# Créez un classifieur SVC avec Scikit-Learn"
   ]
  },
  {
   "cell_type": "code",
   "execution_count": 11,
   "id": "bba6ca3e-8efb-4f79-afcf-db3927d48ef1",
   "metadata": {},
   "outputs": [
    {
     "data": {
      "text/html": [
       "<style>#sk-container-id-1 {color: black;background-color: white;}#sk-container-id-1 pre{padding: 0;}#sk-container-id-1 div.sk-toggleable {background-color: white;}#sk-container-id-1 label.sk-toggleable__label {cursor: pointer;display: block;width: 100%;margin-bottom: 0;padding: 0.3em;box-sizing: border-box;text-align: center;}#sk-container-id-1 label.sk-toggleable__label-arrow:before {content: \"▸\";float: left;margin-right: 0.25em;color: #696969;}#sk-container-id-1 label.sk-toggleable__label-arrow:hover:before {color: black;}#sk-container-id-1 div.sk-estimator:hover label.sk-toggleable__label-arrow:before {color: black;}#sk-container-id-1 div.sk-toggleable__content {max-height: 0;max-width: 0;overflow: hidden;text-align: left;background-color: #f0f8ff;}#sk-container-id-1 div.sk-toggleable__content pre {margin: 0.2em;color: black;border-radius: 0.25em;background-color: #f0f8ff;}#sk-container-id-1 input.sk-toggleable__control:checked~div.sk-toggleable__content {max-height: 200px;max-width: 100%;overflow: auto;}#sk-container-id-1 input.sk-toggleable__control:checked~label.sk-toggleable__label-arrow:before {content: \"▾\";}#sk-container-id-1 div.sk-estimator input.sk-toggleable__control:checked~label.sk-toggleable__label {background-color: #d4ebff;}#sk-container-id-1 div.sk-label input.sk-toggleable__control:checked~label.sk-toggleable__label {background-color: #d4ebff;}#sk-container-id-1 input.sk-hidden--visually {border: 0;clip: rect(1px 1px 1px 1px);clip: rect(1px, 1px, 1px, 1px);height: 1px;margin: -1px;overflow: hidden;padding: 0;position: absolute;width: 1px;}#sk-container-id-1 div.sk-estimator {font-family: monospace;background-color: #f0f8ff;border: 1px dotted black;border-radius: 0.25em;box-sizing: border-box;margin-bottom: 0.5em;}#sk-container-id-1 div.sk-estimator:hover {background-color: #d4ebff;}#sk-container-id-1 div.sk-parallel-item::after {content: \"\";width: 100%;border-bottom: 1px solid gray;flex-grow: 1;}#sk-container-id-1 div.sk-label:hover label.sk-toggleable__label {background-color: #d4ebff;}#sk-container-id-1 div.sk-serial::before {content: \"\";position: absolute;border-left: 1px solid gray;box-sizing: border-box;top: 0;bottom: 0;left: 50%;z-index: 0;}#sk-container-id-1 div.sk-serial {display: flex;flex-direction: column;align-items: center;background-color: white;padding-right: 0.2em;padding-left: 0.2em;position: relative;}#sk-container-id-1 div.sk-item {position: relative;z-index: 1;}#sk-container-id-1 div.sk-parallel {display: flex;align-items: stretch;justify-content: center;background-color: white;position: relative;}#sk-container-id-1 div.sk-item::before, #sk-container-id-1 div.sk-parallel-item::before {content: \"\";position: absolute;border-left: 1px solid gray;box-sizing: border-box;top: 0;bottom: 0;left: 50%;z-index: -1;}#sk-container-id-1 div.sk-parallel-item {display: flex;flex-direction: column;z-index: 1;position: relative;background-color: white;}#sk-container-id-1 div.sk-parallel-item:first-child::after {align-self: flex-end;width: 50%;}#sk-container-id-1 div.sk-parallel-item:last-child::after {align-self: flex-start;width: 50%;}#sk-container-id-1 div.sk-parallel-item:only-child::after {width: 0;}#sk-container-id-1 div.sk-dashed-wrapped {border: 1px dashed gray;margin: 0 0.4em 0.5em 0.4em;box-sizing: border-box;padding-bottom: 0.4em;background-color: white;}#sk-container-id-1 div.sk-label label {font-family: monospace;font-weight: bold;display: inline-block;line-height: 1.2em;}#sk-container-id-1 div.sk-label-container {text-align: center;}#sk-container-id-1 div.sk-container {/* jupyter's `normalize.less` sets `[hidden] { display: none; }` but bootstrap.min.css set `[hidden] { display: none !important; }` so we also need the `!important` here to be able to override the default hidden behavior on the sphinx rendered scikit-learn.org. See: https://github.com/scikit-learn/scikit-learn/issues/21755 */display: inline-block !important;position: relative;}#sk-container-id-1 div.sk-text-repr-fallback {display: none;}</style><div id=\"sk-container-id-1\" class=\"sk-top-container\"><div class=\"sk-text-repr-fallback\"><pre>SVC()</pre><b>In a Jupyter environment, please rerun this cell to show the HTML representation or trust the notebook. <br />On GitHub, the HTML representation is unable to render, please try loading this page with nbviewer.org.</b></div><div class=\"sk-container\" hidden><div class=\"sk-item\"><div class=\"sk-estimator sk-toggleable\"><input class=\"sk-toggleable__control sk-hidden--visually\" id=\"sk-estimator-id-1\" type=\"checkbox\" checked><label for=\"sk-estimator-id-1\" class=\"sk-toggleable__label sk-toggleable__label-arrow\">SVC</label><div class=\"sk-toggleable__content\"><pre>SVC()</pre></div></div></div></div></div>"
      ],
      "text/plain": [
       "SVC()"
      ]
     },
     "execution_count": 11,
     "metadata": {},
     "output_type": "execute_result"
    }
   ],
   "source": [
    "# Model creation + training with train data\n",
    "model = svm.SVC()\n",
    "model.fit(X_train,Y_train)\n",
    "\n"
   ]
  },
  {
   "cell_type": "code",
   "execution_count": 12,
   "id": "d6859538",
   "metadata": {},
   "outputs": [
    {
     "data": {
      "text/plain": [
       "array(['8'], dtype=object)"
      ]
     },
     "execution_count": 12,
     "metadata": {},
     "output_type": "execute_result"
    }
   ],
   "source": [
    "# generalisation on X_test\n",
    "model.predict(X_test[4:5,:])"
   ]
  },
  {
   "cell_type": "code",
   "execution_count": 13,
   "id": "e5bde5e1",
   "metadata": {},
   "outputs": [
    {
     "data": {
      "text/plain": [
       "<matplotlib.image.AxesImage at 0x7f53566a8910>"
      ]
     },
     "execution_count": 13,
     "metadata": {},
     "output_type": "execute_result"
    },
    {
     "data": {
      "image/png": "[encoded data removed]",
      "text/plain": [
       "<Figure size 432x288 with 1 Axes>"
      ]
     },
     "metadata": {
      "needs_background": "light"
     },
     "output_type": "display_data"
    }
   ],
   "source": [
    "# look at the prediction result\n",
    "plt.imshow(X_test[4:5,:].reshape(28,28))\n"
   ]
  },
  {
   "cell_type": "markdown",
   "id": "b9c3d893-240c-445a-9814-fb58614a884f",
   "metadata": {},
   "source": [
    "Apprenez ce classifieur sur vos données d'apprentissage"
   ]
  },
  {
   "cell_type": "code",
   "execution_count": null,
   "id": "3667510f-35ab-48f7-a687-c48bd6fb2dba",
   "metadata": {},
   "outputs": [],
   "source": [
    "model.predict()"
   ]
  },
  {
   "cell_type": "markdown",
   "id": "65120605-e442-47af-b7ec-be4b47a02903",
   "metadata": {},
   "source": [
    "Prédisez les classes sur les données de développement avec ce classifieur"
   ]
  },
  {
   "cell_type": "code",
   "execution_count": null,
   "id": "47e080fe-6d59-4111-b1d1-a60ca74fcd72",
   "metadata": {},
   "outputs": [],
   "source": []
  },
  {
   "cell_type": "markdown",
   "id": "aa8566a8-f6d1-4934-b951-1b8b7136de56",
   "metadata": {},
   "source": [
    "Affichez les premiers exemples de test avec leur classe prédite"
   ]
  },
  {
   "cell_type": "code",
   "execution_count": null,
   "id": "1922d52b-a286-4237-b7fb-02841d540145",
   "metadata": {},
   "outputs": [],
   "source": []
  },
  {
   "cell_type": "markdown",
   "id": "6d761fcf-6f63-4307-acd5-230ae6311cab",
   "metadata": {},
   "source": [
    "# Calculez le taux d'identification sur vos donnée de DEV\n",
    "\n",
    "Puis tracez la matrice de confusion entre les 10 classes"
   ]
  },
  {
   "cell_type": "code",
   "execution_count": null,
   "id": "fdde0b54-b8e9-42f7-a7cd-b2f57740f56c",
   "metadata": {},
   "outputs": [],
   "source": [
    "\n"
   ]
  },
  {
   "cell_type": "markdown",
   "id": "b8cfadae-9212-409f-9d79-50f1f09e8e1d",
   "metadata": {},
   "source": [
    "# Avec Scikit-Learn affichez le rapport de classification"
   ]
  },
  {
   "cell_type": "code",
   "execution_count": null,
   "id": "7097b0fb-56d3-4d5f-92f9-6f4e2bbd4930",
   "metadata": {},
   "outputs": [],
   "source": []
  }
 ],
 "metadata": {
  "kernelspec": {
   "display_name": "Python 3 (ipykernel)",
   "language": "python",
   "name": "python3"
  },
  "language_info": {
   "codemirror_mode": {
    "name": "ipython",
    "version": 3
   },
   "file_extension": ".py",
   "mimetype": "text/x-python",
   "name": "python",
   "nbconvert_exporter": "python",
   "pygments_lexer": "ipython3",
   "version": "3.9.2"
  }
 },
 "nbformat": 4,
 "nbformat_minor": 5
}
