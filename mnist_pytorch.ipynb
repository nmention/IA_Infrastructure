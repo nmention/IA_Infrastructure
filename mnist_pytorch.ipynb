{
 "cells": [
  {
   "cell_type": "markdown",
   "id": "aaa4c0c2-fe2a-4b5b-9545-10344fde1f21",
   "metadata": {},
   "source": [
    "<img src='https://upload.wikimedia.org/wikipedia/fr/thumb/e/ed/Logo_Universit%C3%A9_du_Maine.svg/1280px-Logo_Universit%C3%A9_du_Maine.svg.png' width=\"300\" height=\"500\">\n",
    "<br>\n",
    "<div style=\"border: solid 3px #000;\">\n",
    "    <h1 style=\"text-align: center; color:#000; font-family:Georgia; font-size:26px;\">Infrastructures pour l'IA</h1>\n",
    "    <p style='text-align: center;'>Master Informatique 1</p>\n",
    "    <p style='text-align: center;'>Anhony Larcher</p>\n",
    "</div>"
   ]
  },
  {
   "cell_type": "markdown",
   "id": "371ccdef-4839-4ddc-a986-dfcc76fe8449",
   "metadata": {},
   "source": [
    "Dans cet exercice nous allons classifier les image sde la base de données MNIST un réseau de neurones profonds"
   ]
  },
  {
   "cell_type": "markdown",
   "id": "b16e9a4e-2f0b-4219-967b-d8ff778f476d",
   "metadata": {},
   "source": [
    "## Importez un package qui vous permette de tracer ces graphiques"
   ]
  },
  {
   "cell_type": "code",
   "execution_count": 3,
   "id": "676ce173-77ca-4d56-a425-e3c5543d328e",
   "metadata": {},
   "outputs": [],
   "source": [
    "import matplotlib.pyplot as plt\n",
    "# ou \n",
    "#import seaborn as sns"
   ]
  },
  {
   "cell_type": "markdown",
   "id": "42a9c540-fe09-4d1c-b4a0-c177f9966236",
   "metadata": {},
   "source": [
    "## Importez PyTorch et téléchargez MNIST"
   ]
  },
  {
   "cell_type": "code",
   "execution_count": 4,
   "id": "02bd1b38-e1b3-4f07-92fc-e49d7b44a1b3",
   "metadata": {},
   "outputs": [
    {
     "name": "stderr",
     "output_type": "stream",
     "text": [
      "/Users/alarcher/miniconda3/lib/python3.9/site-packages/tqdm/auto.py:22: TqdmWarning: IProgress not found. Please update jupyter and ipywidgets. See https://ipywidgets.readthedocs.io/en/stable/user_install.html\n",
      "  from .autonotebook import tqdm as notebook_tqdm\n"
     ]
    }
   ],
   "source": [
    "import os\n",
    "import torch\n",
    "import torchvision\n",
    "import torch.nn as nn\n",
    "import torch.nn.functional as F\n",
    "import torch.optim as optim\n",
    "\n",
    "from collections import OrderedDict\n",
    "from torchvision import datasets, transforms\n",
    "\n",
    "\n",
    "transform = transforms.Compose([\n",
    "            transforms.ToTensor(),\n",
    "            transforms.Normalize((0.1307,), (0.3081,))\n",
    "        ])\n",
    "\n",
    "\n",
    "\n",
    "\n",
    "# Get the test dataset\n",
    "#test_set = datasets.MNIST(root = './',\n",
    "#                          download = True, train = False, transform = transform)\n"
   ]
  },
  {
   "cell_type": "markdown",
   "id": "bfd72570-9be8-488c-8714-b530b458be54",
   "metadata": {},
   "source": [
    "# Préparez les données d'apprentissage et de développement"
   ]
  },
  {
   "cell_type": "code",
   "execution_count": 5,
   "id": "f0b32817-a4be-4286-9e48-825a75bc2cd7",
   "metadata": {},
   "outputs": [],
   "source": [
    "batch_size = 16\n",
    "\n",
    "transform = torchvision.transforms.Compose([torchvision.transforms.ToTensor(), torchvision.transforms.Normalize((0.1307,), (0.3081,))])\n",
    "\n",
    "train_set = torchvision.datasets.MNIST('./files/', train=True, download=True, transform=transform)\n",
    "train_loader = torch.utils.data.DataLoader(train_set, batch_size=batch_size, shuffle=True)\n",
    "                                       \n",
    "                                       \n",
    "validation_set = torchvision.datasets.MNIST('./files/', train=False, download=True, transform=transform)\n",
    "validation_loader = torch.utils.data.DataLoader(validation_set, batch_size=batch_size, shuffle=False)"
   ]
  },
  {
   "cell_type": "markdown",
   "id": "5e8dc6b7-5564-44b3-84e6-21bd6d6c48c3",
   "metadata": {},
   "source": [
    "# Regardez quelques données"
   ]
  },
  {
   "cell_type": "code",
   "execution_count": 6,
   "id": "003def73-9f79-4b79-bd55-a61eff68c9bc",
   "metadata": {},
   "outputs": [
    {
     "data": {
      "text/plain": [
       "torch.Size([16, 1, 28, 28])"
      ]
     },
     "execution_count": 6,
     "metadata": {},
     "output_type": "execute_result"
    }
   ],
   "source": [
    "examples = enumerate(validation_loader)\n",
    "batch_idx, (example_data, example_targets) = next(examples)\n",
    "\n",
    "example_data.shape"
   ]
  },
  {
   "cell_type": "markdown",
   "id": "a219d980-9360-42fe-8619-7f0deeb2c74f",
   "metadata": {},
   "source": [
    "## Visualisez quelques exemples de MNIST\n",
    "Chaque ligne de X est un vecteur qui contient les 784 valeurs des pixels d'une image 28x28 en niveaux de gris\n",
    "\n",
    "Affichez les 4 premiers exemples de cette base de données avec leur label"
   ]
  },
  {
   "cell_type": "code",
   "execution_count": 7,
   "id": "62b62598-ee63-4c44-9d38-9946b1470ba4",
   "metadata": {},
   "outputs": [
    {
     "data": {
      "image/png": "[encoded data removed]",
      "text/plain": [
       "<Figure size 432x288 with 6 Axes>"
      ]
     },
     "execution_count": 7,
     "metadata": {},
     "output_type": "execute_result"
    },
    {
     "data": {
      "image/png": "[encoded data removed]",
      "text/plain": [
       "<Figure size 432x288 with 6 Axes>"
      ]
     },
     "metadata": {},
     "output_type": "display_data"
    }
   ],
   "source": [
    "fig = plt.figure()\n",
    "for i in range(6):\n",
    "  plt.subplot(2,3,i+1)\n",
    "  plt.tight_layout()\n",
    "  plt.imshow(example_data[i][0], cmap='gray', interpolation='none')\n",
    "  plt.title(\"Ground Truth: {}\".format(example_targets[i]))\n",
    "  plt.xticks([])\n",
    "  plt.yticks([])\n",
    "fig"
   ]
  },
  {
   "cell_type": "markdown",
   "id": "4b90f2ba-b7fa-4571-9aa0-13d6ac748dea",
   "metadata": {},
   "source": [
    "# Créez un réseau de neurones"
   ]
  },
  {
   "cell_type": "code",
   "execution_count": 8,
   "id": "dda26921-f970-452a-bc33-a47fb6db0cd7",
   "metadata": {},
   "outputs": [],
   "source": [
    "class Net(nn.Module):\n",
    "    def __init__(self, nb_layers=2, hidden_size=128, activation=\"LeakyReLU\", device='cpu', bias=True):\n",
    "        super(Net, self).__init__()\n",
    "    \n",
    "        if activation == \"LeakyReLU\":\n",
    "            activation_function = torch.nn.LeakyReLU()\n",
    "        elif activation == \"glu\":\n",
    "            activation_function = torch.nn.GLU()\n",
    "        elif activation == \"ReLu\":\n",
    "            activation_function = torch.nn.ReLu()\n",
    "        else:\n",
    "            print(\"Activation function not implemented\")\n",
    "\n",
    "        self.input_layer = nn.Linear(in_features=784, \n",
    "                                     out_features=hidden_size, \n",
    "                                     bias=bias, \n",
    "                                     device=device)\n",
    "        \n",
    "        layers = [\n",
    "            (\"input_layer\", self.input_layer), \n",
    "            (\"input_activation\", activation_function)\n",
    "        ]\n",
    "        \n",
    "        for ii in range(nb_layers):\n",
    "            layers.append(\n",
    "                (f\"layer_{ii}\", nn.Linear(in_features=hidden_size,\n",
    "                                          out_features=hidden_size,\n",
    "                                          bias=bias,\n",
    "                                          device=device))\n",
    "                )\n",
    "            layers.append((f\"activation_{ii}\", activation_function))\n",
    " \n",
    "        self.model = torch.nn.Sequential(OrderedDict(layers))\n",
    "            \n",
    "        self.classif_layer = nn.Linear(in_features=hidden_size,\n",
    "                                       out_features=10,\n",
    "                                       bias=bias,\n",
    "                                       device=device)\n",
    "\n",
    "    # x represents our data\n",
    "    def forward(self, x):\n",
    "\n",
    "        x = self.model(x)\n",
    "        x = self.classif_layer(x)\n",
    "        \n",
    "        return x.squeeze()\n",
    "    \n",
    "network = Net(nb_layers=5, hidden_size=32, activation=\"glu\", device='cpu', bias=True)\n"
   ]
  },
  {
   "cell_type": "code",
   "execution_count": 9,
   "id": "ba1638fb-527c-4e7b-a7a6-1007d394a900",
   "metadata": {},
   "outputs": [
    {
     "name": "stdout",
     "output_type": "stream",
     "text": [
      "Net(\n",
      "  (input_layer): Linear(in_features=784, out_features=32, bias=True)\n",
      "  (model): Sequential(\n",
      "    (input_layer): Linear(in_features=784, out_features=32, bias=True)\n",
      "    (input_activation): GLU(dim=-1)\n",
      "    (layer_0): Linear(in_features=32, out_features=32, bias=True)\n",
      "    (activation_0): GLU(dim=-1)\n",
      "    (layer_1): Linear(in_features=32, out_features=32, bias=True)\n",
      "    (activation_1): GLU(dim=-1)\n",
      "    (layer_2): Linear(in_features=32, out_features=32, bias=True)\n",
      "    (activation_2): GLU(dim=-1)\n",
      "    (layer_3): Linear(in_features=32, out_features=32, bias=True)\n",
      "    (activation_3): GLU(dim=-1)\n",
      "    (layer_4): Linear(in_features=32, out_features=32, bias=True)\n",
      "    (activation_4): GLU(dim=-1)\n",
      "  )\n",
      "  (classif_layer): Linear(in_features=32, out_features=10, bias=True)\n",
      ")\n"
     ]
    }
   ],
   "source": [
    "print(network)"
   ]
  },
  {
   "cell_type": "markdown",
   "id": "6728eb67-8c89-4748-84e8-abe58f88017a",
   "metadata": {},
   "source": [
    "# Testez votre réseau en passant des données dedans"
   ]
  },
  {
   "cell_type": "code",
   "execution_count": 17,
   "id": "b52cf93c-4225-4ce6-9f75-5b76d1cd2ba3",
   "metadata": {},
   "outputs": [
    {
     "name": "stdout",
     "output_type": "stream",
     "text": [
      "tensor(2.3003, grad_fn=<NllLossBackward0>)\n"
     ]
    }
   ],
   "source": [
    "# Equates to one random 28x28 image\n",
    "example_data = example_data.reshape(example_data.shape[0], example_data.shape[1], example_data.shape[2] * example_data.shape[3])\n",
    "network = Net()\n",
    "result = network(example_data)\n",
    "print (result)"
   ]
  },
  {
   "cell_type": "markdown",
   "id": "f6f67030-8387-4be9-b055-82b9d7962a94",
   "metadata": {},
   "source": [
    "# Créez un optimizer"
   ]
  },
  {
   "cell_type": "code",
   "execution_count": 31,
   "id": "bdfcb312-ef5e-45a2-8770-9743f9f94776",
   "metadata": {},
   "outputs": [],
   "source": [
    "lr = 1e-3\n",
    "momentum = 0.5\n",
    "log_interval = 100\n",
    "n_epochs = 10\n",
    "optimizer = optim.SGD(network.parameters(), lr=lr, momentum=momentum)"
   ]
  },
  {
   "cell_type": "markdown",
   "id": "65b942dd-4235-4483-9fe8-025249e6af04",
   "metadata": {},
   "source": [
    "# Entrainez votre réseau"
   ]
  },
  {
   "cell_type": "code",
   "execution_count": 32,
   "id": "0c547738-fb20-4609-a1a3-a8e32728c7ab",
   "metadata": {},
   "outputs": [],
   "source": [
    "train_losses = []\n",
    "train_counter = []\n",
    "validation_losses = []\n",
    "validation_counter = [i*len(validation_loader.dataset) for i in range(n_epochs + 1)]"
   ]
  },
  {
   "cell_type": "code",
   "execution_count": 33,
   "id": "76594e2f-78b8-4246-886b-e519ee425bd8",
   "metadata": {},
   "outputs": [],
   "source": [
    "def train(epoch):\n",
    "  network.train()\n",
    "  for batch_idx, (data, target) in enumerate(train_loader):\n",
    "    data = data.reshape(data.shape[0], data.shape[1], data.shape[2] * data.shape[3])\n",
    "    optimizer.zero_grad()\n",
    "    output = network(data)\n",
    "    loss = F.cross_entropy(output, target)\n",
    "    loss.backward()\n",
    "    optimizer.step()\n",
    "    if batch_idx % log_interval == 0:\n",
    "      print('Train Epoch: {} [{}/{} ({:.0f}%)]\\tLoss: {:.6f}'.format(\n",
    "        epoch, batch_idx * len(data), len(train_loader.dataset),\n",
    "        100. * batch_idx / len(train_loader), loss.item()))\n",
    "      train_losses.append(loss.item())\n",
    "      train_counter.append(\n",
    "        (batch_idx*64) + ((epoch-1)*len(train_loader.dataset)))\n",
    "      torch.save(network.state_dict(), './results/model.pth')\n",
    "      torch.save(optimizer.state_dict(), './results/optimizer.pth')"
   ]
  },
  {
   "cell_type": "code",
   "execution_count": 36,
   "id": "1f7aff64-1299-4f5a-beeb-afe83650b173",
   "metadata": {},
   "outputs": [],
   "source": [
    "def validation():\n",
    "    network.eval()\n",
    "    validation_loss = 0\n",
    "    correct = 0\n",
    "    with torch.no_grad():\n",
    "        for data, target in validation_loader:\n",
    "            data = data.reshape(data.shape[0], data.shape[1], data.shape[2] * data.shape[3])\n",
    "            output = network(data)\n",
    "            validation_loss += F.cross_entropy(output, target)\n",
    "            pred = output.data.max(1, keepdim=True)[1]\n",
    "            correct += pred.eq(target.data.view_as(pred)).sum()\n",
    "    validation_loss /= len(validation_loader.dataset)\n",
    "    validation_losses.append(validation_loss)\n",
    "    print('\\nValidation set: Avg. loss: {:.4f}, Accuracy: {}/{} ({:.0f}%)\\n'.format(\n",
    "        validation_loss, correct, len(validation_loader.dataset),\n",
    "        100. * correct / len(validation_loader.dataset)))"
   ]
  },
  {
   "cell_type": "markdown",
   "id": "95e4e76e-919f-48ba-8b95-a222eee7183c",
   "metadata": {},
   "source": [
    "# Boucle d'apprentissage\n",
    "\n",
    "On teste une première fois le modèle avec des paramètres aléatoires avant l'apprentissage"
   ]
  },
  {
   "cell_type": "code",
   "execution_count": 39,
   "id": "b189125a-1236-454c-983f-f1ace9547a2c",
   "metadata": {
    "scrolled": true,
    "tags": []
   },
   "outputs": [
    {
     "name": "stdout",
     "output_type": "stream",
     "text": [
      "\n",
      "Validation set: Avg. loss: 0.0126, Accuracy: 9407/10000 (94%)\n",
      "\n",
      "Train Epoch: 1 [0/60000 (0%)]\tLoss: 0.037224\n",
      "Train Epoch: 1 [1600/60000 (3%)]\tLoss: 0.084985\n",
      "Train Epoch: 1 [3200/60000 (5%)]\tLoss: 0.227972\n",
      "Train Epoch: 1 [4800/60000 (8%)]\tLoss: 0.059857\n",
      "Train Epoch: 1 [6400/60000 (11%)]\tLoss: 0.025481\n",
      "Train Epoch: 1 [8000/60000 (13%)]\tLoss: 0.048331\n",
      "Train Epoch: 1 [9600/60000 (16%)]\tLoss: 0.592596\n",
      "Train Epoch: 1 [11200/60000 (19%)]\tLoss: 0.222040\n",
      "Train Epoch: 1 [12800/60000 (21%)]\tLoss: 0.847871\n",
      "Train Epoch: 1 [14400/60000 (24%)]\tLoss: 0.064574\n",
      "Train Epoch: 1 [16000/60000 (27%)]\tLoss: 0.203825\n",
      "Train Epoch: 1 [17600/60000 (29%)]\tLoss: 0.197780\n",
      "Train Epoch: 1 [19200/60000 (32%)]\tLoss: 0.066667\n",
      "Train Epoch: 1 [20800/60000 (35%)]\tLoss: 0.152408\n",
      "Train Epoch: 1 [22400/60000 (37%)]\tLoss: 0.111184\n",
      "Train Epoch: 1 [24000/60000 (40%)]\tLoss: 0.236799\n",
      "Train Epoch: 1 [25600/60000 (43%)]\tLoss: 0.122415\n",
      "Train Epoch: 1 [27200/60000 (45%)]\tLoss: 0.288638\n",
      "Train Epoch: 1 [28800/60000 (48%)]\tLoss: 0.379523\n",
      "Train Epoch: 1 [30400/60000 (51%)]\tLoss: 0.257957\n",
      "Train Epoch: 1 [32000/60000 (53%)]\tLoss: 0.351766\n",
      "Train Epoch: 1 [33600/60000 (56%)]\tLoss: 0.110618\n",
      "Train Epoch: 1 [35200/60000 (59%)]\tLoss: 0.067164\n",
      "Train Epoch: 1 [36800/60000 (61%)]\tLoss: 0.035422\n",
      "Train Epoch: 1 [38400/60000 (64%)]\tLoss: 0.196586\n",
      "Train Epoch: 1 [40000/60000 (67%)]\tLoss: 0.179674\n",
      "Train Epoch: 1 [41600/60000 (69%)]\tLoss: 0.315173\n",
      "Train Epoch: 1 [43200/60000 (72%)]\tLoss: 0.622291\n",
      "Train Epoch: 1 [44800/60000 (75%)]\tLoss: 0.068954\n",
      "Train Epoch: 1 [46400/60000 (77%)]\tLoss: 0.041849\n",
      "Train Epoch: 1 [48000/60000 (80%)]\tLoss: 0.185172\n",
      "Train Epoch: 1 [49600/60000 (83%)]\tLoss: 0.241715\n",
      "Train Epoch: 1 [51200/60000 (85%)]\tLoss: 0.218253\n",
      "Train Epoch: 1 [52800/60000 (88%)]\tLoss: 0.570366\n",
      "Train Epoch: 1 [54400/60000 (91%)]\tLoss: 0.027917\n",
      "Train Epoch: 1 [56000/60000 (93%)]\tLoss: 0.330818\n",
      "Train Epoch: 1 [57600/60000 (96%)]\tLoss: 0.233053\n",
      "Train Epoch: 1 [59200/60000 (99%)]\tLoss: 0.107361\n",
      "\n",
      "Validation set: Avg. loss: 0.0110, Accuracy: 9473/10000 (95%)\n",
      "\n",
      "Train Epoch: 2 [0/60000 (0%)]\tLoss: 0.327933\n",
      "Train Epoch: 2 [1600/60000 (3%)]\tLoss: 0.061761\n",
      "Train Epoch: 2 [3200/60000 (5%)]\tLoss: 0.225817\n",
      "Train Epoch: 2 [4800/60000 (8%)]\tLoss: 0.050536\n",
      "Train Epoch: 2 [6400/60000 (11%)]\tLoss: 0.037397\n",
      "Train Epoch: 2 [8000/60000 (13%)]\tLoss: 0.090940\n",
      "Train Epoch: 2 [9600/60000 (16%)]\tLoss: 0.056854\n",
      "Train Epoch: 2 [11200/60000 (19%)]\tLoss: 0.237104\n",
      "Train Epoch: 2 [12800/60000 (21%)]\tLoss: 0.012567\n",
      "Train Epoch: 2 [14400/60000 (24%)]\tLoss: 0.135104\n",
      "Train Epoch: 2 [16000/60000 (27%)]\tLoss: 0.085382\n",
      "Train Epoch: 2 [17600/60000 (29%)]\tLoss: 0.040031\n",
      "Train Epoch: 2 [19200/60000 (32%)]\tLoss: 0.031880\n",
      "Train Epoch: 2 [20800/60000 (35%)]\tLoss: 0.056455\n",
      "Train Epoch: 2 [22400/60000 (37%)]\tLoss: 0.124828\n",
      "Train Epoch: 2 [24000/60000 (40%)]\tLoss: 0.028811\n",
      "Train Epoch: 2 [25600/60000 (43%)]\tLoss: 0.047736\n",
      "Train Epoch: 2 [27200/60000 (45%)]\tLoss: 0.108010\n",
      "Train Epoch: 2 [28800/60000 (48%)]\tLoss: 0.257873\n",
      "Train Epoch: 2 [30400/60000 (51%)]\tLoss: 0.228178\n",
      "Train Epoch: 2 [32000/60000 (53%)]\tLoss: 0.037100\n",
      "Train Epoch: 2 [33600/60000 (56%)]\tLoss: 0.016788\n",
      "Train Epoch: 2 [35200/60000 (59%)]\tLoss: 0.172459\n",
      "Train Epoch: 2 [36800/60000 (61%)]\tLoss: 0.047843\n",
      "Train Epoch: 2 [38400/60000 (64%)]\tLoss: 0.068870\n",
      "Train Epoch: 2 [40000/60000 (67%)]\tLoss: 0.116353\n",
      "Train Epoch: 2 [41600/60000 (69%)]\tLoss: 0.041456\n",
      "Train Epoch: 2 [43200/60000 (72%)]\tLoss: 0.103207\n",
      "Train Epoch: 2 [44800/60000 (75%)]\tLoss: 0.228881\n",
      "Train Epoch: 2 [46400/60000 (77%)]\tLoss: 0.071744\n",
      "Train Epoch: 2 [48000/60000 (80%)]\tLoss: 0.198942\n",
      "Train Epoch: 2 [49600/60000 (83%)]\tLoss: 0.257497\n",
      "Train Epoch: 2 [51200/60000 (85%)]\tLoss: 0.038371\n",
      "Train Epoch: 2 [52800/60000 (88%)]\tLoss: 0.332025\n",
      "Train Epoch: 2 [54400/60000 (91%)]\tLoss: 0.137682\n",
      "Train Epoch: 2 [56000/60000 (93%)]\tLoss: 0.301657\n",
      "Train Epoch: 2 [57600/60000 (96%)]\tLoss: 0.193374\n",
      "Train Epoch: 2 [59200/60000 (99%)]\tLoss: 0.363818\n",
      "\n",
      "Validation set: Avg. loss: 0.0101, Accuracy: 9533/10000 (95%)\n",
      "\n",
      "Train Epoch: 3 [0/60000 (0%)]\tLoss: 0.092569\n",
      "Train Epoch: 3 [1600/60000 (3%)]\tLoss: 0.086489\n",
      "Train Epoch: 3 [3200/60000 (5%)]\tLoss: 0.038792\n",
      "Train Epoch: 3 [4800/60000 (8%)]\tLoss: 0.130548\n",
      "Train Epoch: 3 [6400/60000 (11%)]\tLoss: 0.028216\n",
      "Train Epoch: 3 [8000/60000 (13%)]\tLoss: 0.222725\n",
      "Train Epoch: 3 [9600/60000 (16%)]\tLoss: 0.080481\n",
      "Train Epoch: 3 [11200/60000 (19%)]\tLoss: 0.114548\n",
      "Train Epoch: 3 [12800/60000 (21%)]\tLoss: 0.025134\n",
      "Train Epoch: 3 [14400/60000 (24%)]\tLoss: 0.248520\n",
      "Train Epoch: 3 [16000/60000 (27%)]\tLoss: 0.019671\n",
      "Train Epoch: 3 [17600/60000 (29%)]\tLoss: 0.149710\n",
      "Train Epoch: 3 [19200/60000 (32%)]\tLoss: 0.366081\n",
      "Train Epoch: 3 [20800/60000 (35%)]\tLoss: 0.008123\n",
      "Train Epoch: 3 [22400/60000 (37%)]\tLoss: 0.076381\n",
      "Train Epoch: 3 [24000/60000 (40%)]\tLoss: 0.286850\n",
      "Train Epoch: 3 [25600/60000 (43%)]\tLoss: 0.125665\n",
      "Train Epoch: 3 [27200/60000 (45%)]\tLoss: 0.262608\n",
      "Train Epoch: 3 [28800/60000 (48%)]\tLoss: 0.176338\n",
      "Train Epoch: 3 [30400/60000 (51%)]\tLoss: 0.103428\n"
     ]
    },
    {
     "ename": "KeyboardInterrupt",
     "evalue": "",
     "output_type": "error",
     "traceback": [
      "\u001b[0;31m---------------------------------------------------------------------------\u001b[0m",
      "\u001b[0;31mKeyboardInterrupt\u001b[0m                         Traceback (most recent call last)",
      "Cell \u001b[0;32mIn[39], line 3\u001b[0m\n\u001b[1;32m      1\u001b[0m validation()\n\u001b[1;32m      2\u001b[0m \u001b[38;5;28;01mfor\u001b[39;00m epoch \u001b[38;5;129;01min\u001b[39;00m \u001b[38;5;28mrange\u001b[39m(\u001b[38;5;241m1\u001b[39m, n_epochs \u001b[38;5;241m+\u001b[39m \u001b[38;5;241m1\u001b[39m):\n\u001b[0;32m----> 3\u001b[0m   \u001b[43mtrain\u001b[49m\u001b[43m(\u001b[49m\u001b[43mepoch\u001b[49m\u001b[43m)\u001b[49m\n\u001b[1;32m      4\u001b[0m   validation()\n",
      "Cell \u001b[0;32mIn[33], line 3\u001b[0m, in \u001b[0;36mtrain\u001b[0;34m(epoch)\u001b[0m\n\u001b[1;32m      1\u001b[0m \u001b[38;5;28;01mdef\u001b[39;00m \u001b[38;5;21mtrain\u001b[39m(epoch):\n\u001b[1;32m      2\u001b[0m   network\u001b[38;5;241m.\u001b[39mtrain()\n\u001b[0;32m----> 3\u001b[0m   \u001b[38;5;28;01mfor\u001b[39;00m batch_idx, (data, target) \u001b[38;5;129;01min\u001b[39;00m \u001b[38;5;28menumerate\u001b[39m(train_loader):\n\u001b[1;32m      4\u001b[0m     data \u001b[38;5;241m=\u001b[39m data\u001b[38;5;241m.\u001b[39mreshape(data\u001b[38;5;241m.\u001b[39mshape[\u001b[38;5;241m0\u001b[39m], data\u001b[38;5;241m.\u001b[39mshape[\u001b[38;5;241m1\u001b[39m], data\u001b[38;5;241m.\u001b[39mshape[\u001b[38;5;241m2\u001b[39m] \u001b[38;5;241m*\u001b[39m data\u001b[38;5;241m.\u001b[39mshape[\u001b[38;5;241m3\u001b[39m])\n\u001b[1;32m      5\u001b[0m     optimizer\u001b[38;5;241m.\u001b[39mzero_grad()\n",
      "File \u001b[0;32m~/miniconda3/lib/python3.9/site-packages/torch/utils/data/dataloader.py:628\u001b[0m, in \u001b[0;36m_BaseDataLoaderIter.__next__\u001b[0;34m(self)\u001b[0m\n\u001b[1;32m    625\u001b[0m \u001b[38;5;28;01mif\u001b[39;00m \u001b[38;5;28mself\u001b[39m\u001b[38;5;241m.\u001b[39m_sampler_iter \u001b[38;5;129;01mis\u001b[39;00m \u001b[38;5;28;01mNone\u001b[39;00m:\n\u001b[1;32m    626\u001b[0m     \u001b[38;5;66;03m# TODO(https://github.com/pytorch/pytorch/issues/76750)\u001b[39;00m\n\u001b[1;32m    627\u001b[0m     \u001b[38;5;28mself\u001b[39m\u001b[38;5;241m.\u001b[39m_reset()  \u001b[38;5;66;03m# type: ignore[call-arg]\u001b[39;00m\n\u001b[0;32m--> 628\u001b[0m data \u001b[38;5;241m=\u001b[39m \u001b[38;5;28;43mself\u001b[39;49m\u001b[38;5;241;43m.\u001b[39;49m\u001b[43m_next_data\u001b[49m\u001b[43m(\u001b[49m\u001b[43m)\u001b[49m\n\u001b[1;32m    629\u001b[0m \u001b[38;5;28mself\u001b[39m\u001b[38;5;241m.\u001b[39m_num_yielded \u001b[38;5;241m+\u001b[39m\u001b[38;5;241m=\u001b[39m \u001b[38;5;241m1\u001b[39m\n\u001b[1;32m    630\u001b[0m \u001b[38;5;28;01mif\u001b[39;00m \u001b[38;5;28mself\u001b[39m\u001b[38;5;241m.\u001b[39m_dataset_kind \u001b[38;5;241m==\u001b[39m _DatasetKind\u001b[38;5;241m.\u001b[39mIterable \u001b[38;5;129;01mand\u001b[39;00m \\\n\u001b[1;32m    631\u001b[0m         \u001b[38;5;28mself\u001b[39m\u001b[38;5;241m.\u001b[39m_IterableDataset_len_called \u001b[38;5;129;01mis\u001b[39;00m \u001b[38;5;129;01mnot\u001b[39;00m \u001b[38;5;28;01mNone\u001b[39;00m \u001b[38;5;129;01mand\u001b[39;00m \\\n\u001b[1;32m    632\u001b[0m         \u001b[38;5;28mself\u001b[39m\u001b[38;5;241m.\u001b[39m_num_yielded \u001b[38;5;241m>\u001b[39m \u001b[38;5;28mself\u001b[39m\u001b[38;5;241m.\u001b[39m_IterableDataset_len_called:\n",
      "File \u001b[0;32m~/miniconda3/lib/python3.9/site-packages/torch/utils/data/dataloader.py:671\u001b[0m, in \u001b[0;36m_SingleProcessDataLoaderIter._next_data\u001b[0;34m(self)\u001b[0m\n\u001b[1;32m    669\u001b[0m \u001b[38;5;28;01mdef\u001b[39;00m \u001b[38;5;21m_next_data\u001b[39m(\u001b[38;5;28mself\u001b[39m):\n\u001b[1;32m    670\u001b[0m     index \u001b[38;5;241m=\u001b[39m \u001b[38;5;28mself\u001b[39m\u001b[38;5;241m.\u001b[39m_next_index()  \u001b[38;5;66;03m# may raise StopIteration\u001b[39;00m\n\u001b[0;32m--> 671\u001b[0m     data \u001b[38;5;241m=\u001b[39m \u001b[38;5;28;43mself\u001b[39;49m\u001b[38;5;241;43m.\u001b[39;49m\u001b[43m_dataset_fetcher\u001b[49m\u001b[38;5;241;43m.\u001b[39;49m\u001b[43mfetch\u001b[49m\u001b[43m(\u001b[49m\u001b[43mindex\u001b[49m\u001b[43m)\u001b[49m  \u001b[38;5;66;03m# may raise StopIteration\u001b[39;00m\n\u001b[1;32m    672\u001b[0m     \u001b[38;5;28;01mif\u001b[39;00m \u001b[38;5;28mself\u001b[39m\u001b[38;5;241m.\u001b[39m_pin_memory:\n\u001b[1;32m    673\u001b[0m         data \u001b[38;5;241m=\u001b[39m _utils\u001b[38;5;241m.\u001b[39mpin_memory\u001b[38;5;241m.\u001b[39mpin_memory(data, \u001b[38;5;28mself\u001b[39m\u001b[38;5;241m.\u001b[39m_pin_memory_device)\n",
      "File \u001b[0;32m~/miniconda3/lib/python3.9/site-packages/torch/utils/data/_utils/fetch.py:58\u001b[0m, in \u001b[0;36m_MapDatasetFetcher.fetch\u001b[0;34m(self, possibly_batched_index)\u001b[0m\n\u001b[1;32m     56\u001b[0m         data \u001b[38;5;241m=\u001b[39m \u001b[38;5;28mself\u001b[39m\u001b[38;5;241m.\u001b[39mdataset\u001b[38;5;241m.\u001b[39m__getitems__(possibly_batched_index)\n\u001b[1;32m     57\u001b[0m     \u001b[38;5;28;01melse\u001b[39;00m:\n\u001b[0;32m---> 58\u001b[0m         data \u001b[38;5;241m=\u001b[39m [\u001b[38;5;28mself\u001b[39m\u001b[38;5;241m.\u001b[39mdataset[idx] \u001b[38;5;28;01mfor\u001b[39;00m idx \u001b[38;5;129;01min\u001b[39;00m possibly_batched_index]\n\u001b[1;32m     59\u001b[0m \u001b[38;5;28;01melse\u001b[39;00m:\n\u001b[1;32m     60\u001b[0m     data \u001b[38;5;241m=\u001b[39m \u001b[38;5;28mself\u001b[39m\u001b[38;5;241m.\u001b[39mdataset[possibly_batched_index]\n",
      "File \u001b[0;32m~/miniconda3/lib/python3.9/site-packages/torch/utils/data/_utils/fetch.py:58\u001b[0m, in \u001b[0;36m<listcomp>\u001b[0;34m(.0)\u001b[0m\n\u001b[1;32m     56\u001b[0m         data \u001b[38;5;241m=\u001b[39m \u001b[38;5;28mself\u001b[39m\u001b[38;5;241m.\u001b[39mdataset\u001b[38;5;241m.\u001b[39m__getitems__(possibly_batched_index)\n\u001b[1;32m     57\u001b[0m     \u001b[38;5;28;01melse\u001b[39;00m:\n\u001b[0;32m---> 58\u001b[0m         data \u001b[38;5;241m=\u001b[39m [\u001b[38;5;28;43mself\u001b[39;49m\u001b[38;5;241;43m.\u001b[39;49m\u001b[43mdataset\u001b[49m\u001b[43m[\u001b[49m\u001b[43midx\u001b[49m\u001b[43m]\u001b[49m \u001b[38;5;28;01mfor\u001b[39;00m idx \u001b[38;5;129;01min\u001b[39;00m possibly_batched_index]\n\u001b[1;32m     59\u001b[0m \u001b[38;5;28;01melse\u001b[39;00m:\n\u001b[1;32m     60\u001b[0m     data \u001b[38;5;241m=\u001b[39m \u001b[38;5;28mself\u001b[39m\u001b[38;5;241m.\u001b[39mdataset[possibly_batched_index]\n",
      "File \u001b[0;32m~/miniconda3/lib/python3.9/site-packages/torchvision/datasets/mnist.py:145\u001b[0m, in \u001b[0;36mMNIST.__getitem__\u001b[0;34m(self, index)\u001b[0m\n\u001b[1;32m    142\u001b[0m img \u001b[38;5;241m=\u001b[39m Image\u001b[38;5;241m.\u001b[39mfromarray(img\u001b[38;5;241m.\u001b[39mnumpy(), mode\u001b[38;5;241m=\u001b[39m\u001b[38;5;124m\"\u001b[39m\u001b[38;5;124mL\u001b[39m\u001b[38;5;124m\"\u001b[39m)\n\u001b[1;32m    144\u001b[0m \u001b[38;5;28;01mif\u001b[39;00m \u001b[38;5;28mself\u001b[39m\u001b[38;5;241m.\u001b[39mtransform \u001b[38;5;129;01mis\u001b[39;00m \u001b[38;5;129;01mnot\u001b[39;00m \u001b[38;5;28;01mNone\u001b[39;00m:\n\u001b[0;32m--> 145\u001b[0m     img \u001b[38;5;241m=\u001b[39m \u001b[38;5;28;43mself\u001b[39;49m\u001b[38;5;241;43m.\u001b[39;49m\u001b[43mtransform\u001b[49m\u001b[43m(\u001b[49m\u001b[43mimg\u001b[49m\u001b[43m)\u001b[49m\n\u001b[1;32m    147\u001b[0m \u001b[38;5;28;01mif\u001b[39;00m \u001b[38;5;28mself\u001b[39m\u001b[38;5;241m.\u001b[39mtarget_transform \u001b[38;5;129;01mis\u001b[39;00m \u001b[38;5;129;01mnot\u001b[39;00m \u001b[38;5;28;01mNone\u001b[39;00m:\n\u001b[1;32m    148\u001b[0m     target \u001b[38;5;241m=\u001b[39m \u001b[38;5;28mself\u001b[39m\u001b[38;5;241m.\u001b[39mtarget_transform(target)\n",
      "File \u001b[0;32m~/miniconda3/lib/python3.9/site-packages/torchvision/transforms/transforms.py:95\u001b[0m, in \u001b[0;36mCompose.__call__\u001b[0;34m(self, img)\u001b[0m\n\u001b[1;32m     93\u001b[0m \u001b[38;5;28;01mdef\u001b[39;00m \u001b[38;5;21m__call__\u001b[39m(\u001b[38;5;28mself\u001b[39m, img):\n\u001b[1;32m     94\u001b[0m     \u001b[38;5;28;01mfor\u001b[39;00m t \u001b[38;5;129;01min\u001b[39;00m \u001b[38;5;28mself\u001b[39m\u001b[38;5;241m.\u001b[39mtransforms:\n\u001b[0;32m---> 95\u001b[0m         img \u001b[38;5;241m=\u001b[39m \u001b[43mt\u001b[49m\u001b[43m(\u001b[49m\u001b[43mimg\u001b[49m\u001b[43m)\u001b[49m\n\u001b[1;32m     96\u001b[0m     \u001b[38;5;28;01mreturn\u001b[39;00m img\n",
      "File \u001b[0;32m~/miniconda3/lib/python3.9/site-packages/torchvision/transforms/transforms.py:135\u001b[0m, in \u001b[0;36mToTensor.__call__\u001b[0;34m(self, pic)\u001b[0m\n\u001b[1;32m    127\u001b[0m \u001b[38;5;28;01mdef\u001b[39;00m \u001b[38;5;21m__call__\u001b[39m(\u001b[38;5;28mself\u001b[39m, pic):\n\u001b[1;32m    128\u001b[0m \u001b[38;5;250m    \u001b[39m\u001b[38;5;124;03m\"\"\"\u001b[39;00m\n\u001b[1;32m    129\u001b[0m \u001b[38;5;124;03m    Args:\u001b[39;00m\n\u001b[1;32m    130\u001b[0m \u001b[38;5;124;03m        pic (PIL Image or numpy.ndarray): Image to be converted to tensor.\u001b[39;00m\n\u001b[0;32m   (...)\u001b[0m\n\u001b[1;32m    133\u001b[0m \u001b[38;5;124;03m        Tensor: Converted image.\u001b[39;00m\n\u001b[1;32m    134\u001b[0m \u001b[38;5;124;03m    \"\"\"\u001b[39;00m\n\u001b[0;32m--> 135\u001b[0m     \u001b[38;5;28;01mreturn\u001b[39;00m \u001b[43mF\u001b[49m\u001b[38;5;241;43m.\u001b[39;49m\u001b[43mto_tensor\u001b[49m\u001b[43m(\u001b[49m\u001b[43mpic\u001b[49m\u001b[43m)\u001b[49m\n",
      "File \u001b[0;32m~/miniconda3/lib/python3.9/site-packages/torchvision/transforms/functional.py:170\u001b[0m, in \u001b[0;36mto_tensor\u001b[0;34m(pic)\u001b[0m\n\u001b[1;32m    168\u001b[0m \u001b[38;5;66;03m# put it from HWC to CHW format\u001b[39;00m\n\u001b[1;32m    169\u001b[0m img \u001b[38;5;241m=\u001b[39m img\u001b[38;5;241m.\u001b[39mpermute((\u001b[38;5;241m2\u001b[39m, \u001b[38;5;241m0\u001b[39m, \u001b[38;5;241m1\u001b[39m))\u001b[38;5;241m.\u001b[39mcontiguous()\n\u001b[0;32m--> 170\u001b[0m \u001b[38;5;28;01mif\u001b[39;00m \u001b[38;5;28;43misinstance\u001b[39;49m(img, torch\u001b[38;5;241m.\u001b[39mByteTensor):\n\u001b[1;32m    171\u001b[0m     \u001b[38;5;28;01mreturn\u001b[39;00m img\u001b[38;5;241m.\u001b[39mto(dtype\u001b[38;5;241m=\u001b[39mdefault_float_dtype)\u001b[38;5;241m.\u001b[39mdiv(\u001b[38;5;241m255\u001b[39m)\n\u001b[1;32m    172\u001b[0m \u001b[38;5;28;01melse\u001b[39;00m:\n",
      "\u001b[0;31mKeyboardInterrupt\u001b[0m: "
     ]
    }
   ],
   "source": [
    "validation()\n",
    "for epoch in range(1, n_epochs + 1):\n",
    "  train(epoch)\n",
    "  validation()"
   ]
  },
  {
   "cell_type": "markdown",
   "id": "b2e172bd-ba46-4109-8e1b-c0b70cad0fd5",
   "metadata": {},
   "source": [
    "# Tracez les performances d'apprentissage"
   ]
  },
  {
   "cell_type": "code",
   "execution_count": 40,
   "id": "676fb971-a9b2-488f-b640-51a6afec48d1",
   "metadata": {},
   "outputs": [
    {
     "ename": "ValueError",
     "evalue": "x and y must be the same size",
     "output_type": "error",
     "traceback": [
      "\u001b[0;31m---------------------------------------------------------------------------\u001b[0m",
      "\u001b[0;31mValueError\u001b[0m                                Traceback (most recent call last)",
      "Cell \u001b[0;32mIn[40], line 3\u001b[0m\n\u001b[1;32m      1\u001b[0m fig \u001b[38;5;241m=\u001b[39m plt\u001b[38;5;241m.\u001b[39mfigure()\n\u001b[1;32m      2\u001b[0m plt\u001b[38;5;241m.\u001b[39mplot(train_counter, train_losses, color\u001b[38;5;241m=\u001b[39m\u001b[38;5;124m'\u001b[39m\u001b[38;5;124mblue\u001b[39m\u001b[38;5;124m'\u001b[39m)\n\u001b[0;32m----> 3\u001b[0m \u001b[43mplt\u001b[49m\u001b[38;5;241;43m.\u001b[39;49m\u001b[43mscatter\u001b[49m\u001b[43m(\u001b[49m\u001b[43mvalidation_counter\u001b[49m\u001b[43m,\u001b[49m\u001b[43m \u001b[49m\u001b[43mvalidation_losses\u001b[49m\u001b[43m,\u001b[49m\u001b[43m \u001b[49m\u001b[43mcolor\u001b[49m\u001b[38;5;241;43m=\u001b[39;49m\u001b[38;5;124;43m'\u001b[39;49m\u001b[38;5;124;43mred\u001b[39;49m\u001b[38;5;124;43m'\u001b[39;49m\u001b[43m)\u001b[49m\n\u001b[1;32m      4\u001b[0m plt\u001b[38;5;241m.\u001b[39mlegend([\u001b[38;5;124m'\u001b[39m\u001b[38;5;124mTrain Loss\u001b[39m\u001b[38;5;124m'\u001b[39m, \u001b[38;5;124m'\u001b[39m\u001b[38;5;124mTest Loss\u001b[39m\u001b[38;5;124m'\u001b[39m], loc\u001b[38;5;241m=\u001b[39m\u001b[38;5;124m'\u001b[39m\u001b[38;5;124mupper right\u001b[39m\u001b[38;5;124m'\u001b[39m)\n\u001b[1;32m      5\u001b[0m plt\u001b[38;5;241m.\u001b[39mxlabel(\u001b[38;5;124m'\u001b[39m\u001b[38;5;124mnumber of training examples seen\u001b[39m\u001b[38;5;124m'\u001b[39m)\n",
      "File \u001b[0;32m~/miniconda3/lib/python3.9/site-packages/matplotlib/pyplot.py:2819\u001b[0m, in \u001b[0;36mscatter\u001b[0;34m(x, y, s, c, marker, cmap, norm, vmin, vmax, alpha, linewidths, edgecolors, plotnonfinite, data, **kwargs)\u001b[0m\n\u001b[1;32m   2814\u001b[0m \u001b[38;5;129m@_copy_docstring_and_deprecators\u001b[39m(Axes\u001b[38;5;241m.\u001b[39mscatter)\n\u001b[1;32m   2815\u001b[0m \u001b[38;5;28;01mdef\u001b[39;00m \u001b[38;5;21mscatter\u001b[39m(\n\u001b[1;32m   2816\u001b[0m         x, y, s\u001b[38;5;241m=\u001b[39m\u001b[38;5;28;01mNone\u001b[39;00m, c\u001b[38;5;241m=\u001b[39m\u001b[38;5;28;01mNone\u001b[39;00m, marker\u001b[38;5;241m=\u001b[39m\u001b[38;5;28;01mNone\u001b[39;00m, cmap\u001b[38;5;241m=\u001b[39m\u001b[38;5;28;01mNone\u001b[39;00m, norm\u001b[38;5;241m=\u001b[39m\u001b[38;5;28;01mNone\u001b[39;00m,\n\u001b[1;32m   2817\u001b[0m         vmin\u001b[38;5;241m=\u001b[39m\u001b[38;5;28;01mNone\u001b[39;00m, vmax\u001b[38;5;241m=\u001b[39m\u001b[38;5;28;01mNone\u001b[39;00m, alpha\u001b[38;5;241m=\u001b[39m\u001b[38;5;28;01mNone\u001b[39;00m, linewidths\u001b[38;5;241m=\u001b[39m\u001b[38;5;28;01mNone\u001b[39;00m, \u001b[38;5;241m*\u001b[39m,\n\u001b[1;32m   2818\u001b[0m         edgecolors\u001b[38;5;241m=\u001b[39m\u001b[38;5;28;01mNone\u001b[39;00m, plotnonfinite\u001b[38;5;241m=\u001b[39m\u001b[38;5;28;01mFalse\u001b[39;00m, data\u001b[38;5;241m=\u001b[39m\u001b[38;5;28;01mNone\u001b[39;00m, \u001b[38;5;241m*\u001b[39m\u001b[38;5;241m*\u001b[39mkwargs):\n\u001b[0;32m-> 2819\u001b[0m     __ret \u001b[38;5;241m=\u001b[39m \u001b[43mgca\u001b[49m\u001b[43m(\u001b[49m\u001b[43m)\u001b[49m\u001b[38;5;241;43m.\u001b[39;49m\u001b[43mscatter\u001b[49m\u001b[43m(\u001b[49m\n\u001b[1;32m   2820\u001b[0m \u001b[43m        \u001b[49m\u001b[43mx\u001b[49m\u001b[43m,\u001b[49m\u001b[43m \u001b[49m\u001b[43my\u001b[49m\u001b[43m,\u001b[49m\u001b[43m \u001b[49m\u001b[43ms\u001b[49m\u001b[38;5;241;43m=\u001b[39;49m\u001b[43ms\u001b[49m\u001b[43m,\u001b[49m\u001b[43m \u001b[49m\u001b[43mc\u001b[49m\u001b[38;5;241;43m=\u001b[39;49m\u001b[43mc\u001b[49m\u001b[43m,\u001b[49m\u001b[43m \u001b[49m\u001b[43mmarker\u001b[49m\u001b[38;5;241;43m=\u001b[39;49m\u001b[43mmarker\u001b[49m\u001b[43m,\u001b[49m\u001b[43m \u001b[49m\u001b[43mcmap\u001b[49m\u001b[38;5;241;43m=\u001b[39;49m\u001b[43mcmap\u001b[49m\u001b[43m,\u001b[49m\u001b[43m \u001b[49m\u001b[43mnorm\u001b[49m\u001b[38;5;241;43m=\u001b[39;49m\u001b[43mnorm\u001b[49m\u001b[43m,\u001b[49m\n\u001b[1;32m   2821\u001b[0m \u001b[43m        \u001b[49m\u001b[43mvmin\u001b[49m\u001b[38;5;241;43m=\u001b[39;49m\u001b[43mvmin\u001b[49m\u001b[43m,\u001b[49m\u001b[43m \u001b[49m\u001b[43mvmax\u001b[49m\u001b[38;5;241;43m=\u001b[39;49m\u001b[43mvmax\u001b[49m\u001b[43m,\u001b[49m\u001b[43m \u001b[49m\u001b[43malpha\u001b[49m\u001b[38;5;241;43m=\u001b[39;49m\u001b[43malpha\u001b[49m\u001b[43m,\u001b[49m\u001b[43m \u001b[49m\u001b[43mlinewidths\u001b[49m\u001b[38;5;241;43m=\u001b[39;49m\u001b[43mlinewidths\u001b[49m\u001b[43m,\u001b[49m\n\u001b[1;32m   2822\u001b[0m \u001b[43m        \u001b[49m\u001b[43medgecolors\u001b[49m\u001b[38;5;241;43m=\u001b[39;49m\u001b[43medgecolors\u001b[49m\u001b[43m,\u001b[49m\u001b[43m \u001b[49m\u001b[43mplotnonfinite\u001b[49m\u001b[38;5;241;43m=\u001b[39;49m\u001b[43mplotnonfinite\u001b[49m\u001b[43m,\u001b[49m\n\u001b[1;32m   2823\u001b[0m \u001b[43m        \u001b[49m\u001b[38;5;241;43m*\u001b[39;49m\u001b[38;5;241;43m*\u001b[39;49m\u001b[43m(\u001b[49m\u001b[43m{\u001b[49m\u001b[38;5;124;43m\"\u001b[39;49m\u001b[38;5;124;43mdata\u001b[39;49m\u001b[38;5;124;43m\"\u001b[39;49m\u001b[43m:\u001b[49m\u001b[43m \u001b[49m\u001b[43mdata\u001b[49m\u001b[43m}\u001b[49m\u001b[43m \u001b[49m\u001b[38;5;28;43;01mif\u001b[39;49;00m\u001b[43m \u001b[49m\u001b[43mdata\u001b[49m\u001b[43m \u001b[49m\u001b[38;5;129;43;01mis\u001b[39;49;00m\u001b[43m \u001b[49m\u001b[38;5;129;43;01mnot\u001b[39;49;00m\u001b[43m \u001b[49m\u001b[38;5;28;43;01mNone\u001b[39;49;00m\u001b[43m \u001b[49m\u001b[38;5;28;43;01melse\u001b[39;49;00m\u001b[43m \u001b[49m\u001b[43m{\u001b[49m\u001b[43m}\u001b[49m\u001b[43m)\u001b[49m\u001b[43m,\u001b[49m\u001b[43m \u001b[49m\u001b[38;5;241;43m*\u001b[39;49m\u001b[38;5;241;43m*\u001b[39;49m\u001b[43mkwargs\u001b[49m\u001b[43m)\u001b[49m\n\u001b[1;32m   2824\u001b[0m     sci(__ret)\n\u001b[1;32m   2825\u001b[0m     \u001b[38;5;28;01mreturn\u001b[39;00m __ret\n",
      "File \u001b[0;32m~/miniconda3/lib/python3.9/site-packages/matplotlib/__init__.py:1412\u001b[0m, in \u001b[0;36m_preprocess_data.<locals>.inner\u001b[0;34m(ax, data, *args, **kwargs)\u001b[0m\n\u001b[1;32m   1409\u001b[0m \u001b[38;5;129m@functools\u001b[39m\u001b[38;5;241m.\u001b[39mwraps(func)\n\u001b[1;32m   1410\u001b[0m \u001b[38;5;28;01mdef\u001b[39;00m \u001b[38;5;21minner\u001b[39m(ax, \u001b[38;5;241m*\u001b[39margs, data\u001b[38;5;241m=\u001b[39m\u001b[38;5;28;01mNone\u001b[39;00m, \u001b[38;5;241m*\u001b[39m\u001b[38;5;241m*\u001b[39mkwargs):\n\u001b[1;32m   1411\u001b[0m     \u001b[38;5;28;01mif\u001b[39;00m data \u001b[38;5;129;01mis\u001b[39;00m \u001b[38;5;28;01mNone\u001b[39;00m:\n\u001b[0;32m-> 1412\u001b[0m         \u001b[38;5;28;01mreturn\u001b[39;00m \u001b[43mfunc\u001b[49m\u001b[43m(\u001b[49m\u001b[43max\u001b[49m\u001b[43m,\u001b[49m\u001b[43m \u001b[49m\u001b[38;5;241;43m*\u001b[39;49m\u001b[38;5;28;43mmap\u001b[39;49m\u001b[43m(\u001b[49m\u001b[43msanitize_sequence\u001b[49m\u001b[43m,\u001b[49m\u001b[43m \u001b[49m\u001b[43margs\u001b[49m\u001b[43m)\u001b[49m\u001b[43m,\u001b[49m\u001b[43m \u001b[49m\u001b[38;5;241;43m*\u001b[39;49m\u001b[38;5;241;43m*\u001b[39;49m\u001b[43mkwargs\u001b[49m\u001b[43m)\u001b[49m\n\u001b[1;32m   1414\u001b[0m     bound \u001b[38;5;241m=\u001b[39m new_sig\u001b[38;5;241m.\u001b[39mbind(ax, \u001b[38;5;241m*\u001b[39margs, \u001b[38;5;241m*\u001b[39m\u001b[38;5;241m*\u001b[39mkwargs)\n\u001b[1;32m   1415\u001b[0m     auto_label \u001b[38;5;241m=\u001b[39m (bound\u001b[38;5;241m.\u001b[39marguments\u001b[38;5;241m.\u001b[39mget(label_namer)\n\u001b[1;32m   1416\u001b[0m                   \u001b[38;5;129;01mor\u001b[39;00m bound\u001b[38;5;241m.\u001b[39mkwargs\u001b[38;5;241m.\u001b[39mget(label_namer))\n",
      "File \u001b[0;32m~/miniconda3/lib/python3.9/site-packages/matplotlib/axes/_axes.py:4362\u001b[0m, in \u001b[0;36mAxes.scatter\u001b[0;34m(self, x, y, s, c, marker, cmap, norm, vmin, vmax, alpha, linewidths, edgecolors, plotnonfinite, **kwargs)\u001b[0m\n\u001b[1;32m   4360\u001b[0m y \u001b[38;5;241m=\u001b[39m np\u001b[38;5;241m.\u001b[39mma\u001b[38;5;241m.\u001b[39mravel(y)\n\u001b[1;32m   4361\u001b[0m \u001b[38;5;28;01mif\u001b[39;00m x\u001b[38;5;241m.\u001b[39msize \u001b[38;5;241m!=\u001b[39m y\u001b[38;5;241m.\u001b[39msize:\n\u001b[0;32m-> 4362\u001b[0m     \u001b[38;5;28;01mraise\u001b[39;00m \u001b[38;5;167;01mValueError\u001b[39;00m(\u001b[38;5;124m\"\u001b[39m\u001b[38;5;124mx and y must be the same size\u001b[39m\u001b[38;5;124m\"\u001b[39m)\n\u001b[1;32m   4364\u001b[0m \u001b[38;5;28;01mif\u001b[39;00m s \u001b[38;5;129;01mis\u001b[39;00m \u001b[38;5;28;01mNone\u001b[39;00m:\n\u001b[1;32m   4365\u001b[0m     s \u001b[38;5;241m=\u001b[39m (\u001b[38;5;241m20\u001b[39m \u001b[38;5;28;01mif\u001b[39;00m rcParams[\u001b[38;5;124m'\u001b[39m\u001b[38;5;124m_internal.classic_mode\u001b[39m\u001b[38;5;124m'\u001b[39m] \u001b[38;5;28;01melse\u001b[39;00m\n\u001b[1;32m   4366\u001b[0m          rcParams[\u001b[38;5;124m'\u001b[39m\u001b[38;5;124mlines.markersize\u001b[39m\u001b[38;5;124m'\u001b[39m] \u001b[38;5;241m*\u001b[39m\u001b[38;5;241m*\u001b[39m \u001b[38;5;241m2.0\u001b[39m)\n",
      "\u001b[0;31mValueError\u001b[0m: x and y must be the same size"
     ]
    },
    {
     "data": {
      "image/png": "[encoded data removed]",
      "text/plain": [
       "<Figure size 432x288 with 1 Axes>"
      ]
     },
     "metadata": {
      "needs_background": "light"
     },
     "output_type": "display_data"
    }
   ],
   "source": [
    "fig = plt.figure()\n",
    "plt.plot(train_counter, train_losses, color='blue')\n",
    "plt.scatter(validation_counter, validation_losses, color='red')\n",
    "plt.legend(['Train Loss', 'Test Loss'], loc='upper right')\n",
    "plt.xlabel('number of training examples seen')\n",
    "plt.ylabel('negative log likelihood loss')\n",
    "fig"
   ]
  },
  {
   "cell_type": "markdown",
   "id": "72e815f6-f24e-4875-bb39-ad221536b4c0",
   "metadata": {},
   "source": [
    "# Passez sur GPU\n",
    "\n",
    "Modifiez maintenant le code pour l'exécuter sur GPU et comparez la vitesse d'apprentissage"
   ]
  },
  {
   "cell_type": "code",
   "execution_count": null,
   "id": "aacec199-ccf0-4ce9-9a2b-3fb6c299b8c5",
   "metadata": {},
   "outputs": [],
   "source": []
  },
  {
   "cell_type": "code",
   "execution_count": null,
   "id": "52a067d4-32b8-4d71-8ca6-90096387e641",
   "metadata": {},
   "outputs": [],
   "source": []
  }
 ],
 "metadata": {
  "kernelspec": {
   "display_name": "Python 3",
   "language": "python",
   "name": "python3"
  },
  "language_info": {
   "codemirror_mode": {
    "name": "ipython",
    "version": 3
   },
   "file_extension": ".py",
   "mimetype": "text/x-python",
   "name": "python",
   "nbconvert_exporter": "python",
   "pygments_lexer": "ipython3",
   "version": "3.9.12"
  }
 },
 "nbformat": 4,
 "nbformat_minor": 5
}
